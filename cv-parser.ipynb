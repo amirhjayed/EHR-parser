{
 "cells": [
  {
   "cell_type": "markdown",
   "metadata": {},
   "source": [
    "# CV Parser"
   ]
  },
  {
   "cell_type": "markdown",
   "metadata": {},
   "source": [
    "### isHeader\n",
    "    This function takes a line as input and returns the associated header keywodrd if it exists"
   ]
  },
  {
   "cell_type": "code",
   "execution_count": 11,
   "metadata": {},
   "outputs": [],
   "source": [
    "from nltk import word_tokenize\n",
    "from nltk.stem import PorterStemmer\n",
    "\n",
    "\n",
    "ps = PorterStemmer()\n",
    "\n",
    "\n",
    "def isHeader(sentence):\n",
    "    kw = ['profil', 'skill', 'career', 'educ', 'interest', 'refer']\n",
    "    kw = [ps.stem(w) for w in kw]\n",
    "    words = word_tokenize(sentence)\n",
    "    words = [ps.stem(w) for w in words]\n",
    "    for w in words:\n",
    "        if w in kw:\n",
    "            return w\n"
   ]
  },
  {
   "cell_type": "markdown",
   "metadata": {},
   "source": [
    "### ie_modules\n",
    "    This function takes a segement and it's header and calls the associated module"
   ]
  },
  {
   "cell_type": "code",
   "execution_count": 7,
   "metadata": {
    "collapsed": true
   },
   "outputs": [],
   "source": [
    "def ie(seg, mod):\n",
    "    if mod == 'CONTACT':\n",
    "        return 'contact'\n",
    "    elif mod == 'profil':\n",
    "        return 'profile'\n",
    "    elif mod == 'skill':\n",
    "        return 'skills'\n",
    "    elif mod == 'career':\n",
    "        return 'career'\n",
    "    elif mod == 'educ':\n",
    "        return 'education'\n",
    "    elif mod == 'interest':\n",
    "        return 'interests'\n",
    "    elif mod == 'refer':\n",
    "        return 'references'"
   ]
  },
  {
   "cell_type": "markdown",
   "metadata": {},
   "source": [
    "### Main of segmentation and ie"
   ]
  },
  {
   "cell_type": "code",
   "execution_count": 12,
   "metadata": {},
   "outputs": [
    {
     "name": "stdout",
     "output_type": "stream",
     "text": [
      "CONTACT\n",
      "contact\n",
      "['Bill Jacks', 'Infrastructure Project Manager', 'Location : London', 'Telephone : 0700707070', 'Email : bill@jacks.com', 'Professional profile', '\"Accomplished, multi-lingual professional.\"', 'Core Skills', '. C++, Java, Python', '. matlab, qt', '. Solidworks'] \n",
      " \n",
      "\n"
     ]
    }
   ],
   "source": [
    "# from pm_test import convert_pdf\n",
    "from is_header import isHeader\n",
    "from ie_modules import ie\n",
    "# txt_file = convert_pdf('./CV-FR.pdf', './outf')\n",
    "\n",
    "with open('cv.txt') as f:\n",
    "    lines = f.readlines()\n",
    "lines = [x.strip() for x in lines]\n",
    "lines = list(filter(None, lines))\n",
    "segment = []\n",
    "h1 = 'CONTACT'\n",
    "for x in lines:\n",
    "    h2 = isHeader(x)\n",
    "    if h2:\n",
    "        print(h1)\n",
    "        print(ie(segment, h1))\n",
    "        print(segment, '\\n \\n')\n",
    "        h1 = h2\n",
    "        segment = []\n",
    "    else:\n",
    "        segment.append(x)\n"
   ]
  }
 ],
 "metadata": {
  "kernelspec": {
   "display_name": "Python 3",
   "language": "python",
   "name": "python3"
  },
  "language_info": {
   "codemirror_mode": {
    "name": "ipython",
    "version": 3
   },
   "file_extension": ".py",
   "mimetype": "text/x-python",
   "name": "python",
   "nbconvert_exporter": "python",
   "pygments_lexer": "ipython3",
   "version": "3.6.3"
  }
 },
 "nbformat": 4,
 "nbformat_minor": 2
}
