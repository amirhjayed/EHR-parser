{
 "cells": [
  {
   "cell_type": "markdown",
   "metadata": {},
   "source": [
    "# CV Parser"
   ]
  },
  {
   "cell_type": "markdown",
   "metadata": {},
   "source": [
    "### isHeader\n",
    "    This function takes a line as input and returns the associated header keywodrd if it exists"
   ]
  },
  {
   "cell_type": "code",
   "execution_count": 7,
   "metadata": {
    "collapsed": true
   },
   "outputs": [],
   "source": [
    "ps = PorterStemmer()\n",
    "\n",
    "def isHeader(sentence):\n",
    "    kw = ['profil', 'skill', 'career', 'educ', 'interest', 'refer']\n",
    "    kw = [ps.stem(w) for w in kw]\n",
    "    words = word_tokenize(sentence)\n",
    "    words = [ps.stem(w) for w in words]\n",
    "    for w in words:\n",
    "        if w in kw:\n",
    "            return w"
   ]
  },
  {
   "cell_type": "markdown",
   "metadata": {},
   "source": [
    "### ie_modules\n",
    "    This function takes a segement and it's header and calls the associated module"
   ]
  },
  {
   "cell_type": "code",
   "execution_count": 8,
   "metadata": {
    "collapsed": true
   },
   "outputs": [],
   "source": [
    "def ie(seg, mod):\n",
    "    if mod == 'CONTACT':\n",
    "        return 'contact'\n",
    "    elif mod == 'profil':\n",
    "        return 'profile'\n",
    "    elif mod == 'skill':\n",
    "        return 'skills'\n",
    "    elif mod == 'career':\n",
    "        return 'career'\n",
    "    elif mod == 'educ':\n",
    "        return 'education'\n",
    "    elif mod == 'interest':\n",
    "        return 'interests'\n",
    "    elif mod == 'refer':\n",
    "        return 'references'"
   ]
  },
  {
   "cell_type": "markdown",
   "metadata": {},
   "source": [
    "### Main of segmentation and ie"
   ]
  },
  {
   "cell_type": "code",
   "execution_count": 9,
   "metadata": {},
   "outputs": [
    {
     "name": "stdout",
     "output_type": "stream",
     "text": [
      "CONTACT\n",
      "contact\n",
      "['Bill Jacks', 'Infrastructure Project Manager', 'Location : London', 'Telephone : 0700707070', 'Email : bill@jacks.com'] \n",
      " \n",
      "\n",
      "profil\n",
      "profile\n",
      "['\"Accomplished, multi-lingual professional.\"'] \n",
      " \n",
      "\n",
      "skill\n",
      "skills\n",
      "['. C++, Java, Python', '. matlab, qt', '. Solidworks'] \n",
      " \n",
      "\n",
      "career\n",
      "career\n",
      "['aug 2009 - Date         Company XYZ', 'Content manager', 'sep 2003 - aug 2009     Company XYZ', 'Content manager'] \n",
      " \n",
      "\n",
      "educ\n",
      "education\n",
      "['sep 2002 - aug 2009     Campbridge university', 'E-commerce'] \n",
      " \n",
      "\n",
      "educ\n",
      "education\n",
      "['Personal details', 'Potato enthusiast, Football player and chess master.'] \n",
      " \n",
      "\n"
     ]
    }
   ],
   "source": [
    "with open('cv.txt') as f:\n",
    "    lines = f.readlines()\n",
    "lines = [x.strip() for x in lines]\n",
    "lines = list(filter(None, lines))\n",
    "segment = []\n",
    "h1 = 'CONTACT'\n",
    "for x in lines:\n",
    "    h2 = isHeader(x)\n",
    "    if h2:\n",
    "        print(h1)\n",
    "        print(ie(segment, h1))\n",
    "        print(segment, '\\n \\n')\n",
    "        h1 = h2\n",
    "        segment = []\n",
    "    else:\n",
    "        segment.append(x)"
   ]
  }
 ],
 "metadata": {
  "kernelspec": {
   "display_name": "Python 3",
   "language": "python",
   "name": "python3"
  },
  "language_info": {
   "codemirror_mode": {
    "name": "ipython",
    "version": 3
   },
   "file_extension": ".py",
   "mimetype": "text/x-python",
   "name": "python",
   "nbconvert_exporter": "python",
   "pygments_lexer": "ipython3",
   "version": "3.6.3"
  }
 },
 "nbformat": 4,
 "nbformat_minor": 2
}
