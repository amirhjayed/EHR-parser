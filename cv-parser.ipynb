{
 "cells": [
  {
   "cell_type": "markdown",
   "metadata": {},
   "source": [
    "# CV Parser"
   ]
  },
  {
   "cell_type": "markdown",
   "metadata": {},
   "source": [
    "### isHeader\n",
    "    This function takes a line as input and returns the associated header keywodrd if it exists"
   ]
  },
  {
   "cell_type": "code",
   "execution_count": 6,
   "metadata": {},
   "outputs": [],
   "source": [
    "from nltk.stem import PorterStemmer\n",
    "from nltk.stem import WordNetLemmatizer\n",
    "\n",
    "#Not implemented\n",
    "def isHeader(sentence):\n",
    "    kw = [\"PROFILE\",\n",
    "          'SKILLS',\n",
    "          'CAREER',\n",
    "          'EDUCATION',\n",
    "          'INTERESTS',\n",
    "          'REFERENCES']\n",
    "    words = word_tokenize(sentence)\n",
    "    words = [ps.stem(w) for w in words]\n",
    "    words = [w.upper() for w in words]\n",
    "    for w in words:\n",
    "        if w in kw:\n",
    "            return w"
   ]
  },
  {
   "cell_type": "markdown",
   "metadata": {},
   "source": [
    "### ie_modules\n",
    "    This function takes a segement and it's header and calls the associated module"
   ]
  },
  {
   "cell_type": "code",
   "execution_count": 7,
   "metadata": {
    "collapsed": true
   },
   "outputs": [],
   "source": [
    "#Not implemented\n",
    "def ie(seg, mod):\n",
    "    if mod == 'CONTACT':\n",
    "        return 'contact'\n",
    "    elif mod == 'PROFILE':\n",
    "        return 'profile'\n",
    "    elif mod == 'SKILLS':\n",
    "        return 'skills'\n",
    "    elif mod == 'CAREER':\n",
    "        return 'career'\n",
    "    elif mod == 'EDUCATION':\n",
    "        return 'education'\n",
    "    elif mod == 'INTERESTS':\n",
    "        return 'interests'\n",
    "    elif mod == 'REFERENCES':\n",
    "        return 'references'"
   ]
  },
  {
   "cell_type": "markdown",
   "metadata": {},
   "source": [
    "### Main of segmentation and ie"
   ]
  },
  {
   "cell_type": "code",
   "execution_count": 10,
   "metadata": {},
   "outputs": [
    {
     "ename": "NameError",
     "evalue": "name 'word_tokenize' is not defined",
     "output_type": "error",
     "traceback": [
      "\u001b[0;31m---------------------------------------------------------------------------\u001b[0m",
      "\u001b[0;31mNameError\u001b[0m                                 Traceback (most recent call last)",
      "\u001b[0;32m<ipython-input-10-f19f3b151830>\u001b[0m in \u001b[0;36m<module>\u001b[0;34m()\u001b[0m\n\u001b[1;32m      9\u001b[0m \u001b[0mh1\u001b[0m \u001b[0;34m=\u001b[0m \u001b[0;34m'CONTACT'\u001b[0m\u001b[0;34m\u001b[0m\u001b[0m\n\u001b[1;32m     10\u001b[0m \u001b[0;32mfor\u001b[0m \u001b[0mx\u001b[0m \u001b[0;32min\u001b[0m \u001b[0mlines\u001b[0m\u001b[0;34m:\u001b[0m\u001b[0;34m\u001b[0m\u001b[0m\n\u001b[0;32m---> 11\u001b[0;31m     \u001b[0mh2\u001b[0m \u001b[0;34m=\u001b[0m \u001b[0misHeader\u001b[0m\u001b[0;34m(\u001b[0m\u001b[0mx\u001b[0m\u001b[0;34m)\u001b[0m\u001b[0;34m\u001b[0m\u001b[0m\n\u001b[0m\u001b[1;32m     12\u001b[0m     \u001b[0;32mif\u001b[0m \u001b[0mh2\u001b[0m\u001b[0;34m:\u001b[0m\u001b[0;34m\u001b[0m\u001b[0m\n\u001b[1;32m     13\u001b[0m         \u001b[0mprint\u001b[0m\u001b[0;34m(\u001b[0m\u001b[0mh1\u001b[0m\u001b[0;34m)\u001b[0m\u001b[0;34m\u001b[0m\u001b[0m\n",
      "\u001b[0;32m<ipython-input-6-2703b98a29cc>\u001b[0m in \u001b[0;36misHeader\u001b[0;34m(sentence)\u001b[0m\n\u001b[1;32m      9\u001b[0m           \u001b[0;34m'INTERESTS'\u001b[0m\u001b[0;34m,\u001b[0m\u001b[0;34m\u001b[0m\u001b[0m\n\u001b[1;32m     10\u001b[0m           'REFERENCES']\n\u001b[0;32m---> 11\u001b[0;31m     \u001b[0mwords\u001b[0m \u001b[0;34m=\u001b[0m \u001b[0mword_tokenize\u001b[0m\u001b[0;34m(\u001b[0m\u001b[0msentence\u001b[0m\u001b[0;34m)\u001b[0m\u001b[0;34m\u001b[0m\u001b[0m\n\u001b[0m\u001b[1;32m     12\u001b[0m     \u001b[0mwords\u001b[0m \u001b[0;34m=\u001b[0m \u001b[0;34m[\u001b[0m\u001b[0mps\u001b[0m\u001b[0;34m.\u001b[0m\u001b[0mstem\u001b[0m\u001b[0;34m(\u001b[0m\u001b[0mw\u001b[0m\u001b[0;34m)\u001b[0m \u001b[0;32mfor\u001b[0m \u001b[0mw\u001b[0m \u001b[0;32min\u001b[0m \u001b[0mwords\u001b[0m\u001b[0;34m]\u001b[0m\u001b[0;34m\u001b[0m\u001b[0m\n\u001b[1;32m     13\u001b[0m     \u001b[0mwords\u001b[0m \u001b[0;34m=\u001b[0m \u001b[0;34m[\u001b[0m\u001b[0mw\u001b[0m\u001b[0;34m.\u001b[0m\u001b[0mupper\u001b[0m\u001b[0;34m(\u001b[0m\u001b[0;34m)\u001b[0m \u001b[0;32mfor\u001b[0m \u001b[0mw\u001b[0m \u001b[0;32min\u001b[0m \u001b[0mwords\u001b[0m\u001b[0;34m]\u001b[0m\u001b[0;34m\u001b[0m\u001b[0m\n",
      "\u001b[0;31mNameError\u001b[0m: name 'word_tokenize' is not defined"
     ]
    }
   ],
   "source": [
    "# from pm_test import convert_pdf\n",
    "# cv.txt is converted by pdf miner\n",
    "\n",
    "with open('cv.txt') as f:\n",
    "    lines = f.readlines()\n",
    "lines = [x.strip() for x in lines]\n",
    "lines = list(filter(None, lines))\n",
    "segment = []\n",
    "h1 = 'CONTACT'\n",
    "for x in lines:\n",
    "    h2 = isHeader(x)\n",
    "    if h2:\n",
    "        print(h1)\n",
    "        print(ie(segment, h1))\n",
    "        print(segment, '\\n \\n')\n",
    "        h1 = h2\n",
    "        segment = []\n",
    "    else:\n",
    "        segment.append(x)\n"
   ]
  }
 ],
 "metadata": {
  "kernelspec": {
   "display_name": "Python 3",
   "language": "python",
   "name": "python3"
  },
  "language_info": {
   "codemirror_mode": {
    "name": "ipython",
    "version": 3
   },
   "file_extension": ".py",
   "mimetype": "text/x-python",
   "name": "python",
   "nbconvert_exporter": "python",
   "pygments_lexer": "ipython3",
   "version": "3.6.3"
  }
 },
 "nbformat": 4,
 "nbformat_minor": 2
}
